{
 "cells": [
  {
   "cell_type": "markdown",
   "id": "98b1ebc5-c7d1-41fb-9b90-e6a8d7a6664b",
   "metadata": {},
   "source": [
    "<center>\n",
    "    <img src=\"https://cf-courses-data.s3.us.cloud-object-storage.appdomain.cloud/IBMDeveloperSkillsNetwork-DS0105EN-SkillsNetwork/labs/Module2/images/SN_web_lightmode.png\" width=\"300\" alt=\"cognitiveclass.ai logo\">\n",
    "</center>\n"
   ]
  },
  {
   "cell_type": "markdown",
   "id": "4e4f8ff8-1518-431a-ae8a-9fce3996fd14",
   "metadata": {
    "tags": []
   },
   "source": [
    "# Data Science Tools and Ecosystem"
   ]
  },
  {
   "cell_type": "markdown",
   "id": "1f0a27ae-d2f5-452c-baa4-bfc1ebdda9c6",
   "metadata": {},
   "source": [
    "In this notebook, Data Science Tools and Ecosystem are summarized."
   ]
  },
  {
   "cell_type": "markdown",
   "id": "542e647d-8f8e-47c8-8761-2badc459460f",
   "metadata": {},
   "source": [
    "**Objectives:**\n",
    "- List common languages for Data Science\n",
    "- Evaluate arithmetic expressions\n",
    "- List common open source tools for Data Science\n",
    "- List common libraries for Data Science"
   ]
  },
  {
   "cell_type": "markdown",
   "id": "d315e208-7872-4865-99d9-5a040acf4acd",
   "metadata": {},
   "source": [
    "Some of the popular languages that Data Scientists use are:\n",
    "1. Python\n",
    "2. R\n",
    "3. SQL\n",
    "4. Java\n",
    "5. JavaScript\n",
    "6. Julia\n",
    "7. Ruby\n",
    "8. Scala"
   ]
  },
  {
   "cell_type": "markdown",
   "id": "654a8c24-5ec3-4b45-8da4-1d43bacdc718",
   "metadata": {},
   "source": [
    "Some of the commonly used libraries used by Data Scientists include:\n",
    "1. Pandas\n",
    "2. NumPy\n",
    "3. Matplotlib\n",
    "4. Seaborn\n",
    "5. Scikit-learn\n",
    "6. Keras\n",
    "7. TensorFlow\n",
    "8. PyTorch"
   ]
  },
  {
   "cell_type": "markdown",
   "id": "7d831ba7-4fe6-4f45-ae87-d27b4391374a",
   "metadata": {},
   "source": [
    "|Data Science Tools|\n",
    "|------------------|\n",
    "|Jupyter           |\n",
    "|RStudio           |\n",
    "|Apache Spark      |"
   ]
  },
  {
   "cell_type": "markdown",
   "id": "cef49d36-8fac-4ab5-8313-a83c6eb4e54a",
   "metadata": {},
   "source": [
    "### Below are a few examples of evaluating arithmetic expressions in Python."
   ]
  },
  {
   "cell_type": "code",
   "execution_count": 10,
   "id": "ad044d95-7473-4978-b23e-35cdd0671edd",
   "metadata": {},
   "outputs": [
    {
     "data": {
      "text/plain": [
       "17"
      ]
     },
     "execution_count": 10,
     "metadata": {},
     "output_type": "execute_result"
    }
   ],
   "source": [
    "# This is a simple arithmetic expression to multiply then add integers.\n",
    "(3*4)+5"
   ]
  },
  {
   "cell_type": "code",
   "execution_count": 12,
   "id": "f606559a-77eb-4970-8cbc-18b229f23bcc",
   "metadata": {},
   "outputs": [
    {
     "data": {
      "text/plain": [
       "3.3333333333333335"
      ]
     },
     "execution_count": 12,
     "metadata": {},
     "output_type": "execute_result"
    }
   ],
   "source": [
    "# This will convert 200 minutes to hours by dividing by 60.\n",
    "\n",
    "200/60"
   ]
  },
  {
   "cell_type": "markdown",
   "id": "b6ed00e9-a056-4322-b1e8-034bba8816e1",
   "metadata": {},
   "source": [
    "## Author\n",
    " Hamza Mohmmad "
   ]
  },
  {
   "cell_type": "code",
   "execution_count": null,
   "id": "3fccd698-b226-4919-a936-c35a5372f9ee",
   "metadata": {},
   "outputs": [],
   "source": []
  }
 ],
 "metadata": {
  "kernelspec": {
   "display_name": "Python",
   "language": "python",
   "name": "conda-env-python-py"
  },
  "language_info": {
   "codemirror_mode": {
    "name": "ipython",
    "version": 3
   },
   "file_extension": ".py",
   "mimetype": "text/x-python",
   "name": "python",
   "nbconvert_exporter": "python",
   "pygments_lexer": "ipython3",
   "version": "3.7.12"
  }
 },
 "nbformat": 4,
 "nbformat_minor": 5
}
